{
 "cells": [
  {
   "cell_type": "code",
   "execution_count": 48,
   "id": "47b64f26",
   "metadata": {},
   "outputs": [],
   "source": [
    "# basic operations\n",
    "import numpy as np\n",
    "\n",
    "# for dataframe manipulations\n",
    "import pandas as pd \n",
    "\n",
    "# for data visualizations\n",
    "import matplotlib.pyplot as plt\n",
    "import seaborn as sns\n",
    "#ingore warning\n",
    "import warnings\n",
    "warnings.filterwarnings('ignore')\n",
    "\n",
    "import ipywidgets as widgets\n",
    "from ipywidgets import interact\n",
    "\n",
    "# for date time manipulation\n",
    "import datetime\n",
    "\n",
    "# for interactivity\n",
    "import ipywidgets as widgets\n",
    "from ipywidgets import interact\n",
    "from ipywidgets import interact_manual\n",
    "from sklearn.preprocessing import StandardScaler\n",
    "from sklearn.ensemble import RandomForestClassifier \n",
    "\n",
    "from sklearn.neighbors import KNeighborsClassifier\n",
    "from sklearn.metrics import accuracy_score, classification_report , confusion_matrix\n",
    "\n",
    "\n",
    "# setting up the background style for the plots\n",
    "plt.style.use('fivethirtyeight')\n",
    "from sklearn.preprocessing import LabelEncoder\n",
    "from sklearn.model_selection import train_test_split\n",
    "from sklearn.model_selection import cross_val_score\n",
    "\n",
    "from sklearn.linear_model import LinearRegression\n",
    "\n",
    "from sklearn.metrics import r2_score\n",
    "\n",
    "import scipy.stats as stats\n",
    "\n",
    "from sklearn.preprocessing import PowerTransformer\n",
    "import pandas as pd\n",
    "import numpy as np\n",
    "from sklearn.feature_selection import SelectKBest\n",
    "from sklearn.feature_selection import chi2\n",
    "from sklearn.metrics import mean_squared_error\n",
    "from sklearn.metrics import accuracy_score\n",
    "from sklearn.svm import SVR\n",
    "from sklearn.datasets import make_regression\n",
    "from xgboost import XGBClassifier\n",
    "from sklearn.tree import DecisionTreeClassifier \n",
    "\n"
   ]
  },
  {
   "cell_type": "code",
   "execution_count": 2,
   "id": "04225599",
   "metadata": {},
   "outputs": [
    {
     "data": {
      "text/html": [
       "<div>\n",
       "<style scoped>\n",
       "    .dataframe tbody tr th:only-of-type {\n",
       "        vertical-align: middle;\n",
       "    }\n",
       "\n",
       "    .dataframe tbody tr th {\n",
       "        vertical-align: top;\n",
       "    }\n",
       "\n",
       "    .dataframe thead th {\n",
       "        text-align: right;\n",
       "    }\n",
       "</style>\n",
       "<table border=\"1\" class=\"dataframe\">\n",
       "  <thead>\n",
       "    <tr style=\"text-align: right;\">\n",
       "      <th></th>\n",
       "      <th>Time</th>\n",
       "      <th>V1</th>\n",
       "      <th>V2</th>\n",
       "      <th>V3</th>\n",
       "      <th>V4</th>\n",
       "      <th>V5</th>\n",
       "      <th>V6</th>\n",
       "      <th>V7</th>\n",
       "      <th>V8</th>\n",
       "      <th>V9</th>\n",
       "      <th>...</th>\n",
       "      <th>V21</th>\n",
       "      <th>V22</th>\n",
       "      <th>V23</th>\n",
       "      <th>V24</th>\n",
       "      <th>V25</th>\n",
       "      <th>V26</th>\n",
       "      <th>V27</th>\n",
       "      <th>V28</th>\n",
       "      <th>Amount</th>\n",
       "      <th>Class</th>\n",
       "    </tr>\n",
       "  </thead>\n",
       "  <tbody>\n",
       "    <tr>\n",
       "      <th>0</th>\n",
       "      <td>0.0</td>\n",
       "      <td>-1.359807</td>\n",
       "      <td>-0.072781</td>\n",
       "      <td>2.536347</td>\n",
       "      <td>1.378155</td>\n",
       "      <td>-0.338321</td>\n",
       "      <td>0.462388</td>\n",
       "      <td>0.239599</td>\n",
       "      <td>0.098698</td>\n",
       "      <td>0.363787</td>\n",
       "      <td>...</td>\n",
       "      <td>-0.018307</td>\n",
       "      <td>0.277838</td>\n",
       "      <td>-0.110474</td>\n",
       "      <td>0.066928</td>\n",
       "      <td>0.128539</td>\n",
       "      <td>-0.189115</td>\n",
       "      <td>0.133558</td>\n",
       "      <td>-0.021053</td>\n",
       "      <td>149.62</td>\n",
       "      <td>0</td>\n",
       "    </tr>\n",
       "    <tr>\n",
       "      <th>1</th>\n",
       "      <td>0.0</td>\n",
       "      <td>1.191857</td>\n",
       "      <td>0.266151</td>\n",
       "      <td>0.166480</td>\n",
       "      <td>0.448154</td>\n",
       "      <td>0.060018</td>\n",
       "      <td>-0.082361</td>\n",
       "      <td>-0.078803</td>\n",
       "      <td>0.085102</td>\n",
       "      <td>-0.255425</td>\n",
       "      <td>...</td>\n",
       "      <td>-0.225775</td>\n",
       "      <td>-0.638672</td>\n",
       "      <td>0.101288</td>\n",
       "      <td>-0.339846</td>\n",
       "      <td>0.167170</td>\n",
       "      <td>0.125895</td>\n",
       "      <td>-0.008983</td>\n",
       "      <td>0.014724</td>\n",
       "      <td>2.69</td>\n",
       "      <td>0</td>\n",
       "    </tr>\n",
       "    <tr>\n",
       "      <th>2</th>\n",
       "      <td>1.0</td>\n",
       "      <td>-1.358354</td>\n",
       "      <td>-1.340163</td>\n",
       "      <td>1.773209</td>\n",
       "      <td>0.379780</td>\n",
       "      <td>-0.503198</td>\n",
       "      <td>1.800499</td>\n",
       "      <td>0.791461</td>\n",
       "      <td>0.247676</td>\n",
       "      <td>-1.514654</td>\n",
       "      <td>...</td>\n",
       "      <td>0.247998</td>\n",
       "      <td>0.771679</td>\n",
       "      <td>0.909412</td>\n",
       "      <td>-0.689281</td>\n",
       "      <td>-0.327642</td>\n",
       "      <td>-0.139097</td>\n",
       "      <td>-0.055353</td>\n",
       "      <td>-0.059752</td>\n",
       "      <td>378.66</td>\n",
       "      <td>0</td>\n",
       "    </tr>\n",
       "    <tr>\n",
       "      <th>3</th>\n",
       "      <td>1.0</td>\n",
       "      <td>-0.966272</td>\n",
       "      <td>-0.185226</td>\n",
       "      <td>1.792993</td>\n",
       "      <td>-0.863291</td>\n",
       "      <td>-0.010309</td>\n",
       "      <td>1.247203</td>\n",
       "      <td>0.237609</td>\n",
       "      <td>0.377436</td>\n",
       "      <td>-1.387024</td>\n",
       "      <td>...</td>\n",
       "      <td>-0.108300</td>\n",
       "      <td>0.005274</td>\n",
       "      <td>-0.190321</td>\n",
       "      <td>-1.175575</td>\n",
       "      <td>0.647376</td>\n",
       "      <td>-0.221929</td>\n",
       "      <td>0.062723</td>\n",
       "      <td>0.061458</td>\n",
       "      <td>123.50</td>\n",
       "      <td>0</td>\n",
       "    </tr>\n",
       "    <tr>\n",
       "      <th>4</th>\n",
       "      <td>2.0</td>\n",
       "      <td>-1.158233</td>\n",
       "      <td>0.877737</td>\n",
       "      <td>1.548718</td>\n",
       "      <td>0.403034</td>\n",
       "      <td>-0.407193</td>\n",
       "      <td>0.095921</td>\n",
       "      <td>0.592941</td>\n",
       "      <td>-0.270533</td>\n",
       "      <td>0.817739</td>\n",
       "      <td>...</td>\n",
       "      <td>-0.009431</td>\n",
       "      <td>0.798278</td>\n",
       "      <td>-0.137458</td>\n",
       "      <td>0.141267</td>\n",
       "      <td>-0.206010</td>\n",
       "      <td>0.502292</td>\n",
       "      <td>0.219422</td>\n",
       "      <td>0.215153</td>\n",
       "      <td>69.99</td>\n",
       "      <td>0</td>\n",
       "    </tr>\n",
       "  </tbody>\n",
       "</table>\n",
       "<p>5 rows × 31 columns</p>\n",
       "</div>"
      ],
      "text/plain": [
       "   Time        V1        V2        V3        V4        V5        V6        V7  \\\n",
       "0   0.0 -1.359807 -0.072781  2.536347  1.378155 -0.338321  0.462388  0.239599   \n",
       "1   0.0  1.191857  0.266151  0.166480  0.448154  0.060018 -0.082361 -0.078803   \n",
       "2   1.0 -1.358354 -1.340163  1.773209  0.379780 -0.503198  1.800499  0.791461   \n",
       "3   1.0 -0.966272 -0.185226  1.792993 -0.863291 -0.010309  1.247203  0.237609   \n",
       "4   2.0 -1.158233  0.877737  1.548718  0.403034 -0.407193  0.095921  0.592941   \n",
       "\n",
       "         V8        V9  ...       V21       V22       V23       V24       V25  \\\n",
       "0  0.098698  0.363787  ... -0.018307  0.277838 -0.110474  0.066928  0.128539   \n",
       "1  0.085102 -0.255425  ... -0.225775 -0.638672  0.101288 -0.339846  0.167170   \n",
       "2  0.247676 -1.514654  ...  0.247998  0.771679  0.909412 -0.689281 -0.327642   \n",
       "3  0.377436 -1.387024  ... -0.108300  0.005274 -0.190321 -1.175575  0.647376   \n",
       "4 -0.270533  0.817739  ... -0.009431  0.798278 -0.137458  0.141267 -0.206010   \n",
       "\n",
       "        V26       V27       V28  Amount  Class  \n",
       "0 -0.189115  0.133558 -0.021053  149.62      0  \n",
       "1  0.125895 -0.008983  0.014724    2.69      0  \n",
       "2 -0.139097 -0.055353 -0.059752  378.66      0  \n",
       "3 -0.221929  0.062723  0.061458  123.50      0  \n",
       "4  0.502292  0.219422  0.215153   69.99      0  \n",
       "\n",
       "[5 rows x 31 columns]"
      ]
     },
     "execution_count": 2,
     "metadata": {},
     "output_type": "execute_result"
    }
   ],
   "source": [
    "# lets import the dataset using the read_csv function\n",
    "data = pd.read_csv('c:creditcard.csv')\n",
    "data.head()"
   ]
  },
  {
   "cell_type": "code",
   "execution_count": 3,
   "id": "219a1d84",
   "metadata": {},
   "outputs": [
    {
     "data": {
      "text/plain": [
       "(284807, 31)"
      ]
     },
     "execution_count": 3,
     "metadata": {},
     "output_type": "execute_result"
    }
   ],
   "source": [
    "# lets check the shape of the dataset\n",
    "data.shape"
   ]
  },
  {
   "cell_type": "code",
   "execution_count": 4,
   "id": "d764d4c9",
   "metadata": {},
   "outputs": [
    {
     "data": {
      "text/plain": [
       "Index(['Time', 'V1', 'V2', 'V3', 'V4', 'V5', 'V6', 'V7', 'V8', 'V9', 'V10',\n",
       "       'V11', 'V12', 'V13', 'V14', 'V15', 'V16', 'V17', 'V18', 'V19', 'V20',\n",
       "       'V21', 'V22', 'V23', 'V24', 'V25', 'V26', 'V27', 'V28', 'Amount',\n",
       "       'Class'],\n",
       "      dtype='object')"
      ]
     },
     "execution_count": 4,
     "metadata": {},
     "output_type": "execute_result"
    }
   ],
   "source": [
    "# lets check the column names present in the dataset\n",
    "data.columns"
   ]
  },
  {
   "cell_type": "code",
   "execution_count": 5,
   "id": "3a74ef31",
   "metadata": {},
   "outputs": [
    {
     "data": {
      "text/html": [
       "<style  type=\"text/css\" >\n",
       "#T_e11f7_row0_col0,#T_e11f7_row0_col1,#T_e11f7_row0_col2,#T_e11f7_row0_col3,#T_e11f7_row0_col4,#T_e11f7_row0_col5,#T_e11f7_row0_col6,#T_e11f7_row0_col7,#T_e11f7_row0_col8,#T_e11f7_row0_col9,#T_e11f7_row0_col10,#T_e11f7_row0_col11,#T_e11f7_row0_col12,#T_e11f7_row0_col13,#T_e11f7_row0_col14,#T_e11f7_row0_col15,#T_e11f7_row0_col16,#T_e11f7_row0_col17,#T_e11f7_row0_col18,#T_e11f7_row0_col19,#T_e11f7_row0_col20,#T_e11f7_row0_col21,#T_e11f7_row0_col22,#T_e11f7_row0_col23,#T_e11f7_row0_col24,#T_e11f7_row0_col25,#T_e11f7_row0_col26,#T_e11f7_row0_col27,#T_e11f7_row0_col28{\n",
       "            background-color:  #fee838;\n",
       "            color:  #000000;\n",
       "        }#T_e11f7_row1_col0,#T_e11f7_row1_col1,#T_e11f7_row1_col2,#T_e11f7_row1_col3,#T_e11f7_row1_col4,#T_e11f7_row1_col5,#T_e11f7_row1_col6,#T_e11f7_row1_col7,#T_e11f7_row1_col8,#T_e11f7_row1_col9,#T_e11f7_row1_col10,#T_e11f7_row1_col11,#T_e11f7_row1_col12,#T_e11f7_row1_col13,#T_e11f7_row1_col14,#T_e11f7_row1_col15,#T_e11f7_row1_col16,#T_e11f7_row1_col17,#T_e11f7_row1_col18,#T_e11f7_row1_col19,#T_e11f7_row1_col20,#T_e11f7_row1_col21,#T_e11f7_row1_col22,#T_e11f7_row1_col23,#T_e11f7_row1_col24,#T_e11f7_row1_col25,#T_e11f7_row1_col26,#T_e11f7_row1_col27,#T_e11f7_row1_col28,#T_e11f7_row2_col0,#T_e11f7_row2_col1,#T_e11f7_row2_col2,#T_e11f7_row2_col3,#T_e11f7_row2_col4,#T_e11f7_row2_col5,#T_e11f7_row2_col6,#T_e11f7_row2_col7,#T_e11f7_row2_col8,#T_e11f7_row2_col9,#T_e11f7_row2_col10,#T_e11f7_row2_col11,#T_e11f7_row2_col12,#T_e11f7_row2_col13,#T_e11f7_row2_col14,#T_e11f7_row2_col15,#T_e11f7_row2_col16,#T_e11f7_row2_col17,#T_e11f7_row2_col18,#T_e11f7_row2_col19,#T_e11f7_row2_col20,#T_e11f7_row2_col21,#T_e11f7_row2_col22,#T_e11f7_row2_col23,#T_e11f7_row2_col24,#T_e11f7_row2_col25,#T_e11f7_row2_col26,#T_e11f7_row2_col27,#T_e11f7_row2_col28,#T_e11f7_row3_col0,#T_e11f7_row3_col1,#T_e11f7_row3_col2,#T_e11f7_row3_col3,#T_e11f7_row3_col4,#T_e11f7_row3_col5,#T_e11f7_row3_col6,#T_e11f7_row3_col7,#T_e11f7_row3_col8,#T_e11f7_row3_col9,#T_e11f7_row3_col10,#T_e11f7_row3_col11,#T_e11f7_row3_col12,#T_e11f7_row3_col13,#T_e11f7_row3_col14,#T_e11f7_row3_col15,#T_e11f7_row3_col16,#T_e11f7_row3_col17,#T_e11f7_row3_col18,#T_e11f7_row3_col19,#T_e11f7_row3_col20,#T_e11f7_row3_col21,#T_e11f7_row3_col22,#T_e11f7_row3_col23,#T_e11f7_row3_col24,#T_e11f7_row3_col25,#T_e11f7_row3_col26,#T_e11f7_row3_col27,#T_e11f7_row3_col28,#T_e11f7_row4_col0,#T_e11f7_row4_col1,#T_e11f7_row4_col2,#T_e11f7_row4_col3,#T_e11f7_row4_col4,#T_e11f7_row4_col5,#T_e11f7_row4_col6,#T_e11f7_row4_col7,#T_e11f7_row4_col8,#T_e11f7_row4_col9,#T_e11f7_row4_col10,#T_e11f7_row4_col11,#T_e11f7_row4_col12,#T_e11f7_row4_col13,#T_e11f7_row4_col14,#T_e11f7_row4_col15,#T_e11f7_row4_col16,#T_e11f7_row4_col17,#T_e11f7_row4_col18,#T_e11f7_row4_col19,#T_e11f7_row4_col20,#T_e11f7_row4_col21,#T_e11f7_row4_col22,#T_e11f7_row4_col23,#T_e11f7_row4_col24,#T_e11f7_row4_col25,#T_e11f7_row4_col26,#T_e11f7_row4_col27,#T_e11f7_row4_col28,#T_e11f7_row5_col0,#T_e11f7_row5_col1,#T_e11f7_row5_col2,#T_e11f7_row5_col3,#T_e11f7_row5_col4,#T_e11f7_row5_col5,#T_e11f7_row5_col6,#T_e11f7_row5_col7,#T_e11f7_row5_col8,#T_e11f7_row5_col9,#T_e11f7_row5_col10,#T_e11f7_row5_col11,#T_e11f7_row5_col12,#T_e11f7_row5_col13,#T_e11f7_row5_col14,#T_e11f7_row5_col15,#T_e11f7_row5_col16,#T_e11f7_row5_col17,#T_e11f7_row5_col18,#T_e11f7_row5_col19,#T_e11f7_row5_col20,#T_e11f7_row5_col21,#T_e11f7_row5_col22,#T_e11f7_row5_col23,#T_e11f7_row5_col24,#T_e11f7_row5_col25,#T_e11f7_row5_col26,#T_e11f7_row5_col27,#T_e11f7_row5_col28,#T_e11f7_row6_col0,#T_e11f7_row6_col1,#T_e11f7_row6_col2,#T_e11f7_row6_col3,#T_e11f7_row6_col4,#T_e11f7_row6_col5,#T_e11f7_row6_col6,#T_e11f7_row6_col7,#T_e11f7_row6_col8,#T_e11f7_row6_col9,#T_e11f7_row6_col10,#T_e11f7_row6_col11,#T_e11f7_row6_col12,#T_e11f7_row6_col13,#T_e11f7_row6_col14,#T_e11f7_row6_col15,#T_e11f7_row6_col16,#T_e11f7_row6_col17,#T_e11f7_row6_col18,#T_e11f7_row6_col19,#T_e11f7_row6_col20,#T_e11f7_row6_col21,#T_e11f7_row6_col22,#T_e11f7_row6_col23,#T_e11f7_row6_col24,#T_e11f7_row6_col25,#T_e11f7_row6_col26,#T_e11f7_row6_col27,#T_e11f7_row6_col28,#T_e11f7_row7_col0,#T_e11f7_row7_col1,#T_e11f7_row7_col2,#T_e11f7_row7_col3,#T_e11f7_row7_col4,#T_e11f7_row7_col5,#T_e11f7_row7_col6,#T_e11f7_row7_col7,#T_e11f7_row7_col8,#T_e11f7_row7_col9,#T_e11f7_row7_col10,#T_e11f7_row7_col11,#T_e11f7_row7_col12,#T_e11f7_row7_col13,#T_e11f7_row7_col14,#T_e11f7_row7_col15,#T_e11f7_row7_col16,#T_e11f7_row7_col17,#T_e11f7_row7_col18,#T_e11f7_row7_col19,#T_e11f7_row7_col20,#T_e11f7_row7_col21,#T_e11f7_row7_col22,#T_e11f7_row7_col23,#T_e11f7_row7_col24,#T_e11f7_row7_col25,#T_e11f7_row7_col26,#T_e11f7_row7_col28{\n",
       "            background-color:  #00224e;\n",
       "            color:  #f1f1f1;\n",
       "        }#T_e11f7_row7_col27{\n",
       "            background-color:  #013271;\n",
       "            color:  #f1f1f1;\n",
       "        }</style><table id=\"T_e11f7_\" ><thead>    <tr>        <th class=\"blank level0\" ></th>        <th class=\"col_heading level0 col0\" >V2</th>        <th class=\"col_heading level0 col1\" >V3</th>        <th class=\"col_heading level0 col2\" >V4</th>        <th class=\"col_heading level0 col3\" >V5</th>        <th class=\"col_heading level0 col4\" >V6</th>        <th class=\"col_heading level0 col5\" >V7</th>        <th class=\"col_heading level0 col6\" >V8</th>        <th class=\"col_heading level0 col7\" >V9</th>        <th class=\"col_heading level0 col8\" >V10</th>        <th class=\"col_heading level0 col9\" >V11</th>        <th class=\"col_heading level0 col10\" >V12</th>        <th class=\"col_heading level0 col11\" >V13</th>        <th class=\"col_heading level0 col12\" >V14</th>        <th class=\"col_heading level0 col13\" >V15</th>        <th class=\"col_heading level0 col14\" >V16</th>        <th class=\"col_heading level0 col15\" >V17</th>        <th class=\"col_heading level0 col16\" >V18</th>        <th class=\"col_heading level0 col17\" >V19</th>        <th class=\"col_heading level0 col18\" >V20</th>        <th class=\"col_heading level0 col19\" >V21</th>        <th class=\"col_heading level0 col20\" >V22</th>        <th class=\"col_heading level0 col21\" >V23</th>        <th class=\"col_heading level0 col22\" >V24</th>        <th class=\"col_heading level0 col23\" >V25</th>        <th class=\"col_heading level0 col24\" >V26</th>        <th class=\"col_heading level0 col25\" >V27</th>        <th class=\"col_heading level0 col26\" >V28</th>        <th class=\"col_heading level0 col27\" >Amount</th>        <th class=\"col_heading level0 col28\" >Class</th>    </tr></thead><tbody>\n",
       "                <tr>\n",
       "                        <th id=\"T_e11f7_level0_row0\" class=\"row_heading level0 row0\" >count</th>\n",
       "                        <td id=\"T_e11f7_row0_col0\" class=\"data row0 col0\" >284807.000000</td>\n",
       "                        <td id=\"T_e11f7_row0_col1\" class=\"data row0 col1\" >284807.000000</td>\n",
       "                        <td id=\"T_e11f7_row0_col2\" class=\"data row0 col2\" >284807.000000</td>\n",
       "                        <td id=\"T_e11f7_row0_col3\" class=\"data row0 col3\" >284807.000000</td>\n",
       "                        <td id=\"T_e11f7_row0_col4\" class=\"data row0 col4\" >284807.000000</td>\n",
       "                        <td id=\"T_e11f7_row0_col5\" class=\"data row0 col5\" >284807.000000</td>\n",
       "                        <td id=\"T_e11f7_row0_col6\" class=\"data row0 col6\" >284807.000000</td>\n",
       "                        <td id=\"T_e11f7_row0_col7\" class=\"data row0 col7\" >284807.000000</td>\n",
       "                        <td id=\"T_e11f7_row0_col8\" class=\"data row0 col8\" >284807.000000</td>\n",
       "                        <td id=\"T_e11f7_row0_col9\" class=\"data row0 col9\" >284807.000000</td>\n",
       "                        <td id=\"T_e11f7_row0_col10\" class=\"data row0 col10\" >284807.000000</td>\n",
       "                        <td id=\"T_e11f7_row0_col11\" class=\"data row0 col11\" >284807.000000</td>\n",
       "                        <td id=\"T_e11f7_row0_col12\" class=\"data row0 col12\" >284807.000000</td>\n",
       "                        <td id=\"T_e11f7_row0_col13\" class=\"data row0 col13\" >284807.000000</td>\n",
       "                        <td id=\"T_e11f7_row0_col14\" class=\"data row0 col14\" >284807.000000</td>\n",
       "                        <td id=\"T_e11f7_row0_col15\" class=\"data row0 col15\" >284807.000000</td>\n",
       "                        <td id=\"T_e11f7_row0_col16\" class=\"data row0 col16\" >284807.000000</td>\n",
       "                        <td id=\"T_e11f7_row0_col17\" class=\"data row0 col17\" >284807.000000</td>\n",
       "                        <td id=\"T_e11f7_row0_col18\" class=\"data row0 col18\" >284807.000000</td>\n",
       "                        <td id=\"T_e11f7_row0_col19\" class=\"data row0 col19\" >284807.000000</td>\n",
       "                        <td id=\"T_e11f7_row0_col20\" class=\"data row0 col20\" >284807.000000</td>\n",
       "                        <td id=\"T_e11f7_row0_col21\" class=\"data row0 col21\" >284807.000000</td>\n",
       "                        <td id=\"T_e11f7_row0_col22\" class=\"data row0 col22\" >284807.000000</td>\n",
       "                        <td id=\"T_e11f7_row0_col23\" class=\"data row0 col23\" >284807.000000</td>\n",
       "                        <td id=\"T_e11f7_row0_col24\" class=\"data row0 col24\" >284807.000000</td>\n",
       "                        <td id=\"T_e11f7_row0_col25\" class=\"data row0 col25\" >284807.000000</td>\n",
       "                        <td id=\"T_e11f7_row0_col26\" class=\"data row0 col26\" >284807.000000</td>\n",
       "                        <td id=\"T_e11f7_row0_col27\" class=\"data row0 col27\" >284807.000000</td>\n",
       "                        <td id=\"T_e11f7_row0_col28\" class=\"data row0 col28\" >284807.000000</td>\n",
       "            </tr>\n",
       "            <tr>\n",
       "                        <th id=\"T_e11f7_level0_row1\" class=\"row_heading level0 row1\" >mean</th>\n",
       "                        <td id=\"T_e11f7_row1_col0\" class=\"data row1 col0\" >0.000000</td>\n",
       "                        <td id=\"T_e11f7_row1_col1\" class=\"data row1 col1\" >-0.000000</td>\n",
       "                        <td id=\"T_e11f7_row1_col2\" class=\"data row1 col2\" >0.000000</td>\n",
       "                        <td id=\"T_e11f7_row1_col3\" class=\"data row1 col3\" >-0.000000</td>\n",
       "                        <td id=\"T_e11f7_row1_col4\" class=\"data row1 col4\" >0.000000</td>\n",
       "                        <td id=\"T_e11f7_row1_col5\" class=\"data row1 col5\" >-0.000000</td>\n",
       "                        <td id=\"T_e11f7_row1_col6\" class=\"data row1 col6\" >-0.000000</td>\n",
       "                        <td id=\"T_e11f7_row1_col7\" class=\"data row1 col7\" >-0.000000</td>\n",
       "                        <td id=\"T_e11f7_row1_col8\" class=\"data row1 col8\" >0.000000</td>\n",
       "                        <td id=\"T_e11f7_row1_col9\" class=\"data row1 col9\" >0.000000</td>\n",
       "                        <td id=\"T_e11f7_row1_col10\" class=\"data row1 col10\" >-0.000000</td>\n",
       "                        <td id=\"T_e11f7_row1_col11\" class=\"data row1 col11\" >0.000000</td>\n",
       "                        <td id=\"T_e11f7_row1_col12\" class=\"data row1 col12\" >0.000000</td>\n",
       "                        <td id=\"T_e11f7_row1_col13\" class=\"data row1 col13\" >0.000000</td>\n",
       "                        <td id=\"T_e11f7_row1_col14\" class=\"data row1 col14\" >0.000000</td>\n",
       "                        <td id=\"T_e11f7_row1_col15\" class=\"data row1 col15\" >-0.000000</td>\n",
       "                        <td id=\"T_e11f7_row1_col16\" class=\"data row1 col16\" >0.000000</td>\n",
       "                        <td id=\"T_e11f7_row1_col17\" class=\"data row1 col17\" >0.000000</td>\n",
       "                        <td id=\"T_e11f7_row1_col18\" class=\"data row1 col18\" >0.000000</td>\n",
       "                        <td id=\"T_e11f7_row1_col19\" class=\"data row1 col19\" >0.000000</td>\n",
       "                        <td id=\"T_e11f7_row1_col20\" class=\"data row1 col20\" >0.000000</td>\n",
       "                        <td id=\"T_e11f7_row1_col21\" class=\"data row1 col21\" >0.000000</td>\n",
       "                        <td id=\"T_e11f7_row1_col22\" class=\"data row1 col22\" >0.000000</td>\n",
       "                        <td id=\"T_e11f7_row1_col23\" class=\"data row1 col23\" >0.000000</td>\n",
       "                        <td id=\"T_e11f7_row1_col24\" class=\"data row1 col24\" >0.000000</td>\n",
       "                        <td id=\"T_e11f7_row1_col25\" class=\"data row1 col25\" >-0.000000</td>\n",
       "                        <td id=\"T_e11f7_row1_col26\" class=\"data row1 col26\" >-0.000000</td>\n",
       "                        <td id=\"T_e11f7_row1_col27\" class=\"data row1 col27\" >88.349619</td>\n",
       "                        <td id=\"T_e11f7_row1_col28\" class=\"data row1 col28\" >0.001727</td>\n",
       "            </tr>\n",
       "            <tr>\n",
       "                        <th id=\"T_e11f7_level0_row2\" class=\"row_heading level0 row2\" >std</th>\n",
       "                        <td id=\"T_e11f7_row2_col0\" class=\"data row2 col0\" >1.651309</td>\n",
       "                        <td id=\"T_e11f7_row2_col1\" class=\"data row2 col1\" >1.516255</td>\n",
       "                        <td id=\"T_e11f7_row2_col2\" class=\"data row2 col2\" >1.415869</td>\n",
       "                        <td id=\"T_e11f7_row2_col3\" class=\"data row2 col3\" >1.380247</td>\n",
       "                        <td id=\"T_e11f7_row2_col4\" class=\"data row2 col4\" >1.332271</td>\n",
       "                        <td id=\"T_e11f7_row2_col5\" class=\"data row2 col5\" >1.237094</td>\n",
       "                        <td id=\"T_e11f7_row2_col6\" class=\"data row2 col6\" >1.194353</td>\n",
       "                        <td id=\"T_e11f7_row2_col7\" class=\"data row2 col7\" >1.098632</td>\n",
       "                        <td id=\"T_e11f7_row2_col8\" class=\"data row2 col8\" >1.088850</td>\n",
       "                        <td id=\"T_e11f7_row2_col9\" class=\"data row2 col9\" >1.020713</td>\n",
       "                        <td id=\"T_e11f7_row2_col10\" class=\"data row2 col10\" >0.999201</td>\n",
       "                        <td id=\"T_e11f7_row2_col11\" class=\"data row2 col11\" >0.995274</td>\n",
       "                        <td id=\"T_e11f7_row2_col12\" class=\"data row2 col12\" >0.958596</td>\n",
       "                        <td id=\"T_e11f7_row2_col13\" class=\"data row2 col13\" >0.915316</td>\n",
       "                        <td id=\"T_e11f7_row2_col14\" class=\"data row2 col14\" >0.876253</td>\n",
       "                        <td id=\"T_e11f7_row2_col15\" class=\"data row2 col15\" >0.849337</td>\n",
       "                        <td id=\"T_e11f7_row2_col16\" class=\"data row2 col16\" >0.838176</td>\n",
       "                        <td id=\"T_e11f7_row2_col17\" class=\"data row2 col17\" >0.814041</td>\n",
       "                        <td id=\"T_e11f7_row2_col18\" class=\"data row2 col18\" >0.770925</td>\n",
       "                        <td id=\"T_e11f7_row2_col19\" class=\"data row2 col19\" >0.734524</td>\n",
       "                        <td id=\"T_e11f7_row2_col20\" class=\"data row2 col20\" >0.725702</td>\n",
       "                        <td id=\"T_e11f7_row2_col21\" class=\"data row2 col21\" >0.624460</td>\n",
       "                        <td id=\"T_e11f7_row2_col22\" class=\"data row2 col22\" >0.605647</td>\n",
       "                        <td id=\"T_e11f7_row2_col23\" class=\"data row2 col23\" >0.521278</td>\n",
       "                        <td id=\"T_e11f7_row2_col24\" class=\"data row2 col24\" >0.482227</td>\n",
       "                        <td id=\"T_e11f7_row2_col25\" class=\"data row2 col25\" >0.403632</td>\n",
       "                        <td id=\"T_e11f7_row2_col26\" class=\"data row2 col26\" >0.330083</td>\n",
       "                        <td id=\"T_e11f7_row2_col27\" class=\"data row2 col27\" >250.120109</td>\n",
       "                        <td id=\"T_e11f7_row2_col28\" class=\"data row2 col28\" >0.041527</td>\n",
       "            </tr>\n",
       "            <tr>\n",
       "                        <th id=\"T_e11f7_level0_row3\" class=\"row_heading level0 row3\" >min</th>\n",
       "                        <td id=\"T_e11f7_row3_col0\" class=\"data row3 col0\" >-72.715728</td>\n",
       "                        <td id=\"T_e11f7_row3_col1\" class=\"data row3 col1\" >-48.325589</td>\n",
       "                        <td id=\"T_e11f7_row3_col2\" class=\"data row3 col2\" >-5.683171</td>\n",
       "                        <td id=\"T_e11f7_row3_col3\" class=\"data row3 col3\" >-113.743307</td>\n",
       "                        <td id=\"T_e11f7_row3_col4\" class=\"data row3 col4\" >-26.160506</td>\n",
       "                        <td id=\"T_e11f7_row3_col5\" class=\"data row3 col5\" >-43.557242</td>\n",
       "                        <td id=\"T_e11f7_row3_col6\" class=\"data row3 col6\" >-73.216718</td>\n",
       "                        <td id=\"T_e11f7_row3_col7\" class=\"data row3 col7\" >-13.434066</td>\n",
       "                        <td id=\"T_e11f7_row3_col8\" class=\"data row3 col8\" >-24.588262</td>\n",
       "                        <td id=\"T_e11f7_row3_col9\" class=\"data row3 col9\" >-4.797473</td>\n",
       "                        <td id=\"T_e11f7_row3_col10\" class=\"data row3 col10\" >-18.683715</td>\n",
       "                        <td id=\"T_e11f7_row3_col11\" class=\"data row3 col11\" >-5.791881</td>\n",
       "                        <td id=\"T_e11f7_row3_col12\" class=\"data row3 col12\" >-19.214325</td>\n",
       "                        <td id=\"T_e11f7_row3_col13\" class=\"data row3 col13\" >-4.498945</td>\n",
       "                        <td id=\"T_e11f7_row3_col14\" class=\"data row3 col14\" >-14.129855</td>\n",
       "                        <td id=\"T_e11f7_row3_col15\" class=\"data row3 col15\" >-25.162799</td>\n",
       "                        <td id=\"T_e11f7_row3_col16\" class=\"data row3 col16\" >-9.498746</td>\n",
       "                        <td id=\"T_e11f7_row3_col17\" class=\"data row3 col17\" >-7.213527</td>\n",
       "                        <td id=\"T_e11f7_row3_col18\" class=\"data row3 col18\" >-54.497720</td>\n",
       "                        <td id=\"T_e11f7_row3_col19\" class=\"data row3 col19\" >-34.830382</td>\n",
       "                        <td id=\"T_e11f7_row3_col20\" class=\"data row3 col20\" >-10.933144</td>\n",
       "                        <td id=\"T_e11f7_row3_col21\" class=\"data row3 col21\" >-44.807735</td>\n",
       "                        <td id=\"T_e11f7_row3_col22\" class=\"data row3 col22\" >-2.836627</td>\n",
       "                        <td id=\"T_e11f7_row3_col23\" class=\"data row3 col23\" >-10.295397</td>\n",
       "                        <td id=\"T_e11f7_row3_col24\" class=\"data row3 col24\" >-2.604551</td>\n",
       "                        <td id=\"T_e11f7_row3_col25\" class=\"data row3 col25\" >-22.565679</td>\n",
       "                        <td id=\"T_e11f7_row3_col26\" class=\"data row3 col26\" >-15.430084</td>\n",
       "                        <td id=\"T_e11f7_row3_col27\" class=\"data row3 col27\" >0.000000</td>\n",
       "                        <td id=\"T_e11f7_row3_col28\" class=\"data row3 col28\" >0.000000</td>\n",
       "            </tr>\n",
       "            <tr>\n",
       "                        <th id=\"T_e11f7_level0_row4\" class=\"row_heading level0 row4\" >25%</th>\n",
       "                        <td id=\"T_e11f7_row4_col0\" class=\"data row4 col0\" >-0.598550</td>\n",
       "                        <td id=\"T_e11f7_row4_col1\" class=\"data row4 col1\" >-0.890365</td>\n",
       "                        <td id=\"T_e11f7_row4_col2\" class=\"data row4 col2\" >-0.848640</td>\n",
       "                        <td id=\"T_e11f7_row4_col3\" class=\"data row4 col3\" >-0.691597</td>\n",
       "                        <td id=\"T_e11f7_row4_col4\" class=\"data row4 col4\" >-0.768296</td>\n",
       "                        <td id=\"T_e11f7_row4_col5\" class=\"data row4 col5\" >-0.554076</td>\n",
       "                        <td id=\"T_e11f7_row4_col6\" class=\"data row4 col6\" >-0.208630</td>\n",
       "                        <td id=\"T_e11f7_row4_col7\" class=\"data row4 col7\" >-0.643098</td>\n",
       "                        <td id=\"T_e11f7_row4_col8\" class=\"data row4 col8\" >-0.535426</td>\n",
       "                        <td id=\"T_e11f7_row4_col9\" class=\"data row4 col9\" >-0.762494</td>\n",
       "                        <td id=\"T_e11f7_row4_col10\" class=\"data row4 col10\" >-0.405571</td>\n",
       "                        <td id=\"T_e11f7_row4_col11\" class=\"data row4 col11\" >-0.648539</td>\n",
       "                        <td id=\"T_e11f7_row4_col12\" class=\"data row4 col12\" >-0.425574</td>\n",
       "                        <td id=\"T_e11f7_row4_col13\" class=\"data row4 col13\" >-0.582884</td>\n",
       "                        <td id=\"T_e11f7_row4_col14\" class=\"data row4 col14\" >-0.468037</td>\n",
       "                        <td id=\"T_e11f7_row4_col15\" class=\"data row4 col15\" >-0.483748</td>\n",
       "                        <td id=\"T_e11f7_row4_col16\" class=\"data row4 col16\" >-0.498850</td>\n",
       "                        <td id=\"T_e11f7_row4_col17\" class=\"data row4 col17\" >-0.456299</td>\n",
       "                        <td id=\"T_e11f7_row4_col18\" class=\"data row4 col18\" >-0.211721</td>\n",
       "                        <td id=\"T_e11f7_row4_col19\" class=\"data row4 col19\" >-0.228395</td>\n",
       "                        <td id=\"T_e11f7_row4_col20\" class=\"data row4 col20\" >-0.542350</td>\n",
       "                        <td id=\"T_e11f7_row4_col21\" class=\"data row4 col21\" >-0.161846</td>\n",
       "                        <td id=\"T_e11f7_row4_col22\" class=\"data row4 col22\" >-0.354586</td>\n",
       "                        <td id=\"T_e11f7_row4_col23\" class=\"data row4 col23\" >-0.317145</td>\n",
       "                        <td id=\"T_e11f7_row4_col24\" class=\"data row4 col24\" >-0.326984</td>\n",
       "                        <td id=\"T_e11f7_row4_col25\" class=\"data row4 col25\" >-0.070840</td>\n",
       "                        <td id=\"T_e11f7_row4_col26\" class=\"data row4 col26\" >-0.052960</td>\n",
       "                        <td id=\"T_e11f7_row4_col27\" class=\"data row4 col27\" >5.600000</td>\n",
       "                        <td id=\"T_e11f7_row4_col28\" class=\"data row4 col28\" >0.000000</td>\n",
       "            </tr>\n",
       "            <tr>\n",
       "                        <th id=\"T_e11f7_level0_row5\" class=\"row_heading level0 row5\" >50%</th>\n",
       "                        <td id=\"T_e11f7_row5_col0\" class=\"data row5 col0\" >0.065486</td>\n",
       "                        <td id=\"T_e11f7_row5_col1\" class=\"data row5 col1\" >0.179846</td>\n",
       "                        <td id=\"T_e11f7_row5_col2\" class=\"data row5 col2\" >-0.019847</td>\n",
       "                        <td id=\"T_e11f7_row5_col3\" class=\"data row5 col3\" >-0.054336</td>\n",
       "                        <td id=\"T_e11f7_row5_col4\" class=\"data row5 col4\" >-0.274187</td>\n",
       "                        <td id=\"T_e11f7_row5_col5\" class=\"data row5 col5\" >0.040103</td>\n",
       "                        <td id=\"T_e11f7_row5_col6\" class=\"data row5 col6\" >0.022358</td>\n",
       "                        <td id=\"T_e11f7_row5_col7\" class=\"data row5 col7\" >-0.051429</td>\n",
       "                        <td id=\"T_e11f7_row5_col8\" class=\"data row5 col8\" >-0.092917</td>\n",
       "                        <td id=\"T_e11f7_row5_col9\" class=\"data row5 col9\" >-0.032757</td>\n",
       "                        <td id=\"T_e11f7_row5_col10\" class=\"data row5 col10\" >0.140033</td>\n",
       "                        <td id=\"T_e11f7_row5_col11\" class=\"data row5 col11\" >-0.013568</td>\n",
       "                        <td id=\"T_e11f7_row5_col12\" class=\"data row5 col12\" >0.050601</td>\n",
       "                        <td id=\"T_e11f7_row5_col13\" class=\"data row5 col13\" >0.048072</td>\n",
       "                        <td id=\"T_e11f7_row5_col14\" class=\"data row5 col14\" >0.066413</td>\n",
       "                        <td id=\"T_e11f7_row5_col15\" class=\"data row5 col15\" >-0.065676</td>\n",
       "                        <td id=\"T_e11f7_row5_col16\" class=\"data row5 col16\" >-0.003636</td>\n",
       "                        <td id=\"T_e11f7_row5_col17\" class=\"data row5 col17\" >0.003735</td>\n",
       "                        <td id=\"T_e11f7_row5_col18\" class=\"data row5 col18\" >-0.062481</td>\n",
       "                        <td id=\"T_e11f7_row5_col19\" class=\"data row5 col19\" >-0.029450</td>\n",
       "                        <td id=\"T_e11f7_row5_col20\" class=\"data row5 col20\" >0.006782</td>\n",
       "                        <td id=\"T_e11f7_row5_col21\" class=\"data row5 col21\" >-0.011193</td>\n",
       "                        <td id=\"T_e11f7_row5_col22\" class=\"data row5 col22\" >0.040976</td>\n",
       "                        <td id=\"T_e11f7_row5_col23\" class=\"data row5 col23\" >0.016594</td>\n",
       "                        <td id=\"T_e11f7_row5_col24\" class=\"data row5 col24\" >-0.052139</td>\n",
       "                        <td id=\"T_e11f7_row5_col25\" class=\"data row5 col25\" >0.001342</td>\n",
       "                        <td id=\"T_e11f7_row5_col26\" class=\"data row5 col26\" >0.011244</td>\n",
       "                        <td id=\"T_e11f7_row5_col27\" class=\"data row5 col27\" >22.000000</td>\n",
       "                        <td id=\"T_e11f7_row5_col28\" class=\"data row5 col28\" >0.000000</td>\n",
       "            </tr>\n",
       "            <tr>\n",
       "                        <th id=\"T_e11f7_level0_row6\" class=\"row_heading level0 row6\" >75%</th>\n",
       "                        <td id=\"T_e11f7_row6_col0\" class=\"data row6 col0\" >0.803724</td>\n",
       "                        <td id=\"T_e11f7_row6_col1\" class=\"data row6 col1\" >1.027196</td>\n",
       "                        <td id=\"T_e11f7_row6_col2\" class=\"data row6 col2\" >0.743341</td>\n",
       "                        <td id=\"T_e11f7_row6_col3\" class=\"data row6 col3\" >0.611926</td>\n",
       "                        <td id=\"T_e11f7_row6_col4\" class=\"data row6 col4\" >0.398565</td>\n",
       "                        <td id=\"T_e11f7_row6_col5\" class=\"data row6 col5\" >0.570436</td>\n",
       "                        <td id=\"T_e11f7_row6_col6\" class=\"data row6 col6\" >0.327346</td>\n",
       "                        <td id=\"T_e11f7_row6_col7\" class=\"data row6 col7\" >0.597139</td>\n",
       "                        <td id=\"T_e11f7_row6_col8\" class=\"data row6 col8\" >0.453923</td>\n",
       "                        <td id=\"T_e11f7_row6_col9\" class=\"data row6 col9\" >0.739593</td>\n",
       "                        <td id=\"T_e11f7_row6_col10\" class=\"data row6 col10\" >0.618238</td>\n",
       "                        <td id=\"T_e11f7_row6_col11\" class=\"data row6 col11\" >0.662505</td>\n",
       "                        <td id=\"T_e11f7_row6_col12\" class=\"data row6 col12\" >0.493150</td>\n",
       "                        <td id=\"T_e11f7_row6_col13\" class=\"data row6 col13\" >0.648821</td>\n",
       "                        <td id=\"T_e11f7_row6_col14\" class=\"data row6 col14\" >0.523296</td>\n",
       "                        <td id=\"T_e11f7_row6_col15\" class=\"data row6 col15\" >0.399675</td>\n",
       "                        <td id=\"T_e11f7_row6_col16\" class=\"data row6 col16\" >0.500807</td>\n",
       "                        <td id=\"T_e11f7_row6_col17\" class=\"data row6 col17\" >0.458949</td>\n",
       "                        <td id=\"T_e11f7_row6_col18\" class=\"data row6 col18\" >0.133041</td>\n",
       "                        <td id=\"T_e11f7_row6_col19\" class=\"data row6 col19\" >0.186377</td>\n",
       "                        <td id=\"T_e11f7_row6_col20\" class=\"data row6 col20\" >0.528554</td>\n",
       "                        <td id=\"T_e11f7_row6_col21\" class=\"data row6 col21\" >0.147642</td>\n",
       "                        <td id=\"T_e11f7_row6_col22\" class=\"data row6 col22\" >0.439527</td>\n",
       "                        <td id=\"T_e11f7_row6_col23\" class=\"data row6 col23\" >0.350716</td>\n",
       "                        <td id=\"T_e11f7_row6_col24\" class=\"data row6 col24\" >0.240952</td>\n",
       "                        <td id=\"T_e11f7_row6_col25\" class=\"data row6 col25\" >0.091045</td>\n",
       "                        <td id=\"T_e11f7_row6_col26\" class=\"data row6 col26\" >0.078280</td>\n",
       "                        <td id=\"T_e11f7_row6_col27\" class=\"data row6 col27\" >77.165000</td>\n",
       "                        <td id=\"T_e11f7_row6_col28\" class=\"data row6 col28\" >0.000000</td>\n",
       "            </tr>\n",
       "            <tr>\n",
       "                        <th id=\"T_e11f7_level0_row7\" class=\"row_heading level0 row7\" >max</th>\n",
       "                        <td id=\"T_e11f7_row7_col0\" class=\"data row7 col0\" >22.057729</td>\n",
       "                        <td id=\"T_e11f7_row7_col1\" class=\"data row7 col1\" >9.382558</td>\n",
       "                        <td id=\"T_e11f7_row7_col2\" class=\"data row7 col2\" >16.875344</td>\n",
       "                        <td id=\"T_e11f7_row7_col3\" class=\"data row7 col3\" >34.801666</td>\n",
       "                        <td id=\"T_e11f7_row7_col4\" class=\"data row7 col4\" >73.301626</td>\n",
       "                        <td id=\"T_e11f7_row7_col5\" class=\"data row7 col5\" >120.589494</td>\n",
       "                        <td id=\"T_e11f7_row7_col6\" class=\"data row7 col6\" >20.007208</td>\n",
       "                        <td id=\"T_e11f7_row7_col7\" class=\"data row7 col7\" >15.594995</td>\n",
       "                        <td id=\"T_e11f7_row7_col8\" class=\"data row7 col8\" >23.745136</td>\n",
       "                        <td id=\"T_e11f7_row7_col9\" class=\"data row7 col9\" >12.018913</td>\n",
       "                        <td id=\"T_e11f7_row7_col10\" class=\"data row7 col10\" >7.848392</td>\n",
       "                        <td id=\"T_e11f7_row7_col11\" class=\"data row7 col11\" >7.126883</td>\n",
       "                        <td id=\"T_e11f7_row7_col12\" class=\"data row7 col12\" >10.526766</td>\n",
       "                        <td id=\"T_e11f7_row7_col13\" class=\"data row7 col13\" >8.877742</td>\n",
       "                        <td id=\"T_e11f7_row7_col14\" class=\"data row7 col14\" >17.315112</td>\n",
       "                        <td id=\"T_e11f7_row7_col15\" class=\"data row7 col15\" >9.253526</td>\n",
       "                        <td id=\"T_e11f7_row7_col16\" class=\"data row7 col16\" >5.041069</td>\n",
       "                        <td id=\"T_e11f7_row7_col17\" class=\"data row7 col17\" >5.591971</td>\n",
       "                        <td id=\"T_e11f7_row7_col18\" class=\"data row7 col18\" >39.420904</td>\n",
       "                        <td id=\"T_e11f7_row7_col19\" class=\"data row7 col19\" >27.202839</td>\n",
       "                        <td id=\"T_e11f7_row7_col20\" class=\"data row7 col20\" >10.503090</td>\n",
       "                        <td id=\"T_e11f7_row7_col21\" class=\"data row7 col21\" >22.528412</td>\n",
       "                        <td id=\"T_e11f7_row7_col22\" class=\"data row7 col22\" >4.584549</td>\n",
       "                        <td id=\"T_e11f7_row7_col23\" class=\"data row7 col23\" >7.519589</td>\n",
       "                        <td id=\"T_e11f7_row7_col24\" class=\"data row7 col24\" >3.517346</td>\n",
       "                        <td id=\"T_e11f7_row7_col25\" class=\"data row7 col25\" >31.612198</td>\n",
       "                        <td id=\"T_e11f7_row7_col26\" class=\"data row7 col26\" >33.847808</td>\n",
       "                        <td id=\"T_e11f7_row7_col27\" class=\"data row7 col27\" >25691.160000</td>\n",
       "                        <td id=\"T_e11f7_row7_col28\" class=\"data row7 col28\" >1.000000</td>\n",
       "            </tr>\n",
       "    </tbody></table>"
      ],
      "text/plain": [
       "<pandas.io.formats.style.Styler at 0x1f2e01851f0>"
      ]
     },
     "execution_count": 5,
     "metadata": {},
     "output_type": "execute_result"
    }
   ],
   "source": [
    "#for numercial data\n",
    "data.iloc[:,2:].describe().style.background_gradient(cmap='cividis')"
   ]
  },
  {
   "cell_type": "code",
   "execution_count": 6,
   "id": "08d8e334",
   "metadata": {},
   "outputs": [
    {
     "data": {
      "text/plain": [
       "Time      0\n",
       "V1        0\n",
       "V2        0\n",
       "V3        0\n",
       "V4        0\n",
       "V5        0\n",
       "V6        0\n",
       "V7        0\n",
       "V8        0\n",
       "V9        0\n",
       "V10       0\n",
       "V11       0\n",
       "V12       0\n",
       "V13       0\n",
       "V14       0\n",
       "V15       0\n",
       "V16       0\n",
       "V17       0\n",
       "V18       0\n",
       "V19       0\n",
       "V20       0\n",
       "V21       0\n",
       "V22       0\n",
       "V23       0\n",
       "V24       0\n",
       "V25       0\n",
       "V26       0\n",
       "V27       0\n",
       "V28       0\n",
       "Amount    0\n",
       "Class     0\n",
       "dtype: int64"
      ]
     },
     "execution_count": 6,
     "metadata": {},
     "output_type": "execute_result"
    }
   ],
   "source": [
    "# checking no. of Missing values\n",
    "data.isnull().sum()"
   ]
  },
  {
   "cell_type": "code",
   "execution_count": 7,
   "id": "b23a8292",
   "metadata": {},
   "outputs": [
    {
     "name": "stdout",
     "output_type": "stream",
     "text": [
      "<class 'pandas.core.frame.DataFrame'>\n",
      "RangeIndex: 284807 entries, 0 to 284806\n",
      "Data columns (total 31 columns):\n",
      " #   Column  Non-Null Count   Dtype  \n",
      "---  ------  --------------   -----  \n",
      " 0   Time    284807 non-null  float64\n",
      " 1   V1      284807 non-null  float64\n",
      " 2   V2      284807 non-null  float64\n",
      " 3   V3      284807 non-null  float64\n",
      " 4   V4      284807 non-null  float64\n",
      " 5   V5      284807 non-null  float64\n",
      " 6   V6      284807 non-null  float64\n",
      " 7   V7      284807 non-null  float64\n",
      " 8   V8      284807 non-null  float64\n",
      " 9   V9      284807 non-null  float64\n",
      " 10  V10     284807 non-null  float64\n",
      " 11  V11     284807 non-null  float64\n",
      " 12  V12     284807 non-null  float64\n",
      " 13  V13     284807 non-null  float64\n",
      " 14  V14     284807 non-null  float64\n",
      " 15  V15     284807 non-null  float64\n",
      " 16  V16     284807 non-null  float64\n",
      " 17  V17     284807 non-null  float64\n",
      " 18  V18     284807 non-null  float64\n",
      " 19  V19     284807 non-null  float64\n",
      " 20  V20     284807 non-null  float64\n",
      " 21  V21     284807 non-null  float64\n",
      " 22  V22     284807 non-null  float64\n",
      " 23  V23     284807 non-null  float64\n",
      " 24  V24     284807 non-null  float64\n",
      " 25  V25     284807 non-null  float64\n",
      " 26  V26     284807 non-null  float64\n",
      " 27  V27     284807 non-null  float64\n",
      " 28  V28     284807 non-null  float64\n",
      " 29  Amount  284807 non-null  float64\n",
      " 30  Class   284807 non-null  int64  \n",
      "dtypes: float64(30), int64(1)\n",
      "memory usage: 67.4 MB\n"
     ]
    }
   ],
   "source": [
    "data.info()"
   ]
  },
  {
   "cell_type": "code",
   "execution_count": 8,
   "id": "5d79c2f3",
   "metadata": {},
   "outputs": [
    {
     "data": {
      "text/plain": [
       "0    284315\n",
       "1       492\n",
       "Name: Class, dtype: int64"
      ]
     },
     "execution_count": 8,
     "metadata": {},
     "output_type": "execute_result"
    }
   ],
   "source": [
    "data[\"Class\"].value_counts()"
   ]
  },
  {
   "cell_type": "code",
   "execution_count": 9,
   "id": "e67d451c",
   "metadata": {},
   "outputs": [
    {
     "name": "stdout",
     "output_type": "stream",
     "text": [
      "(284315, 31)\n",
      "(492, 31)\n"
     ]
    }
   ],
   "source": [
    "normal = data[data.Class==0]\n",
    "fraud = data[data.Class==1]\n",
    "print(normal.shape)\n",
    "print(fraud.shape)"
   ]
  },
  {
   "cell_type": "code",
   "execution_count": 10,
   "id": "0aca700e",
   "metadata": {},
   "outputs": [
    {
     "data": {
      "text/plain": [
       "count    284315.000000\n",
       "mean         88.291022\n",
       "std         250.105092\n",
       "min           0.000000\n",
       "25%           5.650000\n",
       "50%          22.000000\n",
       "75%          77.050000\n",
       "max       25691.160000\n",
       "Name: Amount, dtype: float64"
      ]
     },
     "execution_count": 10,
     "metadata": {},
     "output_type": "execute_result"
    }
   ],
   "source": [
    "normal.Amount.describe()"
   ]
  },
  {
   "cell_type": "code",
   "execution_count": 11,
   "id": "2aff9843",
   "metadata": {},
   "outputs": [
    {
     "data": {
      "text/plain": [
       "count     492.000000\n",
       "mean      122.211321\n",
       "std       256.683288\n",
       "min         0.000000\n",
       "25%         1.000000\n",
       "50%         9.250000\n",
       "75%       105.890000\n",
       "max      2125.870000\n",
       "Name: Amount, dtype: float64"
      ]
     },
     "execution_count": 11,
     "metadata": {},
     "output_type": "execute_result"
    }
   ],
   "source": [
    "fraud.Amount.describe()"
   ]
  },
  {
   "cell_type": "code",
   "execution_count": 12,
   "id": "df4a469f",
   "metadata": {},
   "outputs": [
    {
     "data": {
      "text/html": [
       "<style  type=\"text/css\" >\n",
       "#T_eb9fe_row0_col0,#T_eb9fe_row0_col1,#T_eb9fe_row0_col3,#T_eb9fe_row0_col5,#T_eb9fe_row0_col6,#T_eb9fe_row0_col7,#T_eb9fe_row0_col9,#T_eb9fe_row0_col10,#T_eb9fe_row0_col12,#T_eb9fe_row0_col13,#T_eb9fe_row0_col14,#T_eb9fe_row0_col15,#T_eb9fe_row0_col16,#T_eb9fe_row0_col17,#T_eb9fe_row0_col18,#T_eb9fe_row0_col23,#T_eb9fe_row0_col24,#T_eb9fe_row1_col2,#T_eb9fe_row1_col4,#T_eb9fe_row1_col8,#T_eb9fe_row1_col11,#T_eb9fe_row1_col19,#T_eb9fe_row1_col20,#T_eb9fe_row1_col21,#T_eb9fe_row1_col22,#T_eb9fe_row1_col25,#T_eb9fe_row1_col26,#T_eb9fe_row1_col27,#T_eb9fe_row1_col28,#T_eb9fe_row1_col29{\n",
       "            background-color:  #fee838;\n",
       "            color:  #000000;\n",
       "        }#T_eb9fe_row0_col2,#T_eb9fe_row0_col4,#T_eb9fe_row0_col8,#T_eb9fe_row0_col11,#T_eb9fe_row0_col19,#T_eb9fe_row0_col20,#T_eb9fe_row0_col21,#T_eb9fe_row0_col22,#T_eb9fe_row0_col25,#T_eb9fe_row0_col26,#T_eb9fe_row0_col27,#T_eb9fe_row0_col28,#T_eb9fe_row0_col29,#T_eb9fe_row1_col0,#T_eb9fe_row1_col1,#T_eb9fe_row1_col3,#T_eb9fe_row1_col5,#T_eb9fe_row1_col6,#T_eb9fe_row1_col7,#T_eb9fe_row1_col9,#T_eb9fe_row1_col10,#T_eb9fe_row1_col12,#T_eb9fe_row1_col13,#T_eb9fe_row1_col14,#T_eb9fe_row1_col15,#T_eb9fe_row1_col16,#T_eb9fe_row1_col17,#T_eb9fe_row1_col18,#T_eb9fe_row1_col23,#T_eb9fe_row1_col24{\n",
       "            background-color:  #00224e;\n",
       "            color:  #f1f1f1;\n",
       "        }</style><table id=\"T_eb9fe_\" ><thead>    <tr>        <th class=\"blank level0\" ></th>        <th class=\"col_heading level0 col0\" >Time</th>        <th class=\"col_heading level0 col1\" >V1</th>        <th class=\"col_heading level0 col2\" >V2</th>        <th class=\"col_heading level0 col3\" >V3</th>        <th class=\"col_heading level0 col4\" >V4</th>        <th class=\"col_heading level0 col5\" >V5</th>        <th class=\"col_heading level0 col6\" >V6</th>        <th class=\"col_heading level0 col7\" >V7</th>        <th class=\"col_heading level0 col8\" >V8</th>        <th class=\"col_heading level0 col9\" >V9</th>        <th class=\"col_heading level0 col10\" >V10</th>        <th class=\"col_heading level0 col11\" >V11</th>        <th class=\"col_heading level0 col12\" >V12</th>        <th class=\"col_heading level0 col13\" >V13</th>        <th class=\"col_heading level0 col14\" >V14</th>        <th class=\"col_heading level0 col15\" >V15</th>        <th class=\"col_heading level0 col16\" >V16</th>        <th class=\"col_heading level0 col17\" >V17</th>        <th class=\"col_heading level0 col18\" >V18</th>        <th class=\"col_heading level0 col19\" >V19</th>        <th class=\"col_heading level0 col20\" >V20</th>        <th class=\"col_heading level0 col21\" >V21</th>        <th class=\"col_heading level0 col22\" >V22</th>        <th class=\"col_heading level0 col23\" >V23</th>        <th class=\"col_heading level0 col24\" >V24</th>        <th class=\"col_heading level0 col25\" >V25</th>        <th class=\"col_heading level0 col26\" >V26</th>        <th class=\"col_heading level0 col27\" >V27</th>        <th class=\"col_heading level0 col28\" >V28</th>        <th class=\"col_heading level0 col29\" >Amount</th>    </tr>    <tr>        <th class=\"index_name level0\" >Class</th>        <th class=\"blank\" ></th>        <th class=\"blank\" ></th>        <th class=\"blank\" ></th>        <th class=\"blank\" ></th>        <th class=\"blank\" ></th>        <th class=\"blank\" ></th>        <th class=\"blank\" ></th>        <th class=\"blank\" ></th>        <th class=\"blank\" ></th>        <th class=\"blank\" ></th>        <th class=\"blank\" ></th>        <th class=\"blank\" ></th>        <th class=\"blank\" ></th>        <th class=\"blank\" ></th>        <th class=\"blank\" ></th>        <th class=\"blank\" ></th>        <th class=\"blank\" ></th>        <th class=\"blank\" ></th>        <th class=\"blank\" ></th>        <th class=\"blank\" ></th>        <th class=\"blank\" ></th>        <th class=\"blank\" ></th>        <th class=\"blank\" ></th>        <th class=\"blank\" ></th>        <th class=\"blank\" ></th>        <th class=\"blank\" ></th>        <th class=\"blank\" ></th>        <th class=\"blank\" ></th>        <th class=\"blank\" ></th>        <th class=\"blank\" ></th>    </tr></thead><tbody>\n",
       "                <tr>\n",
       "                        <th id=\"T_eb9fe_level0_row0\" class=\"row_heading level0 row0\" >0</th>\n",
       "                        <td id=\"T_eb9fe_row0_col0\" class=\"data row0 col0\" >94838.202258</td>\n",
       "                        <td id=\"T_eb9fe_row0_col1\" class=\"data row0 col1\" >0.008258</td>\n",
       "                        <td id=\"T_eb9fe_row0_col2\" class=\"data row0 col2\" >-0.006271</td>\n",
       "                        <td id=\"T_eb9fe_row0_col3\" class=\"data row0 col3\" >0.012171</td>\n",
       "                        <td id=\"T_eb9fe_row0_col4\" class=\"data row0 col4\" >-0.007860</td>\n",
       "                        <td id=\"T_eb9fe_row0_col5\" class=\"data row0 col5\" >0.005453</td>\n",
       "                        <td id=\"T_eb9fe_row0_col6\" class=\"data row0 col6\" >0.002419</td>\n",
       "                        <td id=\"T_eb9fe_row0_col7\" class=\"data row0 col7\" >0.009637</td>\n",
       "                        <td id=\"T_eb9fe_row0_col8\" class=\"data row0 col8\" >-0.000987</td>\n",
       "                        <td id=\"T_eb9fe_row0_col9\" class=\"data row0 col9\" >0.004467</td>\n",
       "                        <td id=\"T_eb9fe_row0_col10\" class=\"data row0 col10\" >0.009824</td>\n",
       "                        <td id=\"T_eb9fe_row0_col11\" class=\"data row0 col11\" >-0.006576</td>\n",
       "                        <td id=\"T_eb9fe_row0_col12\" class=\"data row0 col12\" >0.010832</td>\n",
       "                        <td id=\"T_eb9fe_row0_col13\" class=\"data row0 col13\" >0.000189</td>\n",
       "                        <td id=\"T_eb9fe_row0_col14\" class=\"data row0 col14\" >0.012064</td>\n",
       "                        <td id=\"T_eb9fe_row0_col15\" class=\"data row0 col15\" >0.000161</td>\n",
       "                        <td id=\"T_eb9fe_row0_col16\" class=\"data row0 col16\" >0.007164</td>\n",
       "                        <td id=\"T_eb9fe_row0_col17\" class=\"data row0 col17\" >0.011535</td>\n",
       "                        <td id=\"T_eb9fe_row0_col18\" class=\"data row0 col18\" >0.003887</td>\n",
       "                        <td id=\"T_eb9fe_row0_col19\" class=\"data row0 col19\" >-0.001178</td>\n",
       "                        <td id=\"T_eb9fe_row0_col20\" class=\"data row0 col20\" >-0.000644</td>\n",
       "                        <td id=\"T_eb9fe_row0_col21\" class=\"data row0 col21\" >-0.001235</td>\n",
       "                        <td id=\"T_eb9fe_row0_col22\" class=\"data row0 col22\" >-0.000024</td>\n",
       "                        <td id=\"T_eb9fe_row0_col23\" class=\"data row0 col23\" >0.000070</td>\n",
       "                        <td id=\"T_eb9fe_row0_col24\" class=\"data row0 col24\" >0.000182</td>\n",
       "                        <td id=\"T_eb9fe_row0_col25\" class=\"data row0 col25\" >-0.000072</td>\n",
       "                        <td id=\"T_eb9fe_row0_col26\" class=\"data row0 col26\" >-0.000089</td>\n",
       "                        <td id=\"T_eb9fe_row0_col27\" class=\"data row0 col27\" >-0.000295</td>\n",
       "                        <td id=\"T_eb9fe_row0_col28\" class=\"data row0 col28\" >-0.000131</td>\n",
       "                        <td id=\"T_eb9fe_row0_col29\" class=\"data row0 col29\" >88.291022</td>\n",
       "            </tr>\n",
       "            <tr>\n",
       "                        <th id=\"T_eb9fe_level0_row1\" class=\"row_heading level0 row1\" >1</th>\n",
       "                        <td id=\"T_eb9fe_row1_col0\" class=\"data row1 col0\" >80746.806911</td>\n",
       "                        <td id=\"T_eb9fe_row1_col1\" class=\"data row1 col1\" >-4.771948</td>\n",
       "                        <td id=\"T_eb9fe_row1_col2\" class=\"data row1 col2\" >3.623778</td>\n",
       "                        <td id=\"T_eb9fe_row1_col3\" class=\"data row1 col3\" >-7.033281</td>\n",
       "                        <td id=\"T_eb9fe_row1_col4\" class=\"data row1 col4\" >4.542029</td>\n",
       "                        <td id=\"T_eb9fe_row1_col5\" class=\"data row1 col5\" >-3.151225</td>\n",
       "                        <td id=\"T_eb9fe_row1_col6\" class=\"data row1 col6\" >-1.397737</td>\n",
       "                        <td id=\"T_eb9fe_row1_col7\" class=\"data row1 col7\" >-5.568731</td>\n",
       "                        <td id=\"T_eb9fe_row1_col8\" class=\"data row1 col8\" >0.570636</td>\n",
       "                        <td id=\"T_eb9fe_row1_col9\" class=\"data row1 col9\" >-2.581123</td>\n",
       "                        <td id=\"T_eb9fe_row1_col10\" class=\"data row1 col10\" >-5.676883</td>\n",
       "                        <td id=\"T_eb9fe_row1_col11\" class=\"data row1 col11\" >3.800173</td>\n",
       "                        <td id=\"T_eb9fe_row1_col12\" class=\"data row1 col12\" >-6.259393</td>\n",
       "                        <td id=\"T_eb9fe_row1_col13\" class=\"data row1 col13\" >-0.109334</td>\n",
       "                        <td id=\"T_eb9fe_row1_col14\" class=\"data row1 col14\" >-6.971723</td>\n",
       "                        <td id=\"T_eb9fe_row1_col15\" class=\"data row1 col15\" >-0.092929</td>\n",
       "                        <td id=\"T_eb9fe_row1_col16\" class=\"data row1 col16\" >-4.139946</td>\n",
       "                        <td id=\"T_eb9fe_row1_col17\" class=\"data row1 col17\" >-6.665836</td>\n",
       "                        <td id=\"T_eb9fe_row1_col18\" class=\"data row1 col18\" >-2.246308</td>\n",
       "                        <td id=\"T_eb9fe_row1_col19\" class=\"data row1 col19\" >0.680659</td>\n",
       "                        <td id=\"T_eb9fe_row1_col20\" class=\"data row1 col20\" >0.372319</td>\n",
       "                        <td id=\"T_eb9fe_row1_col21\" class=\"data row1 col21\" >0.713588</td>\n",
       "                        <td id=\"T_eb9fe_row1_col22\" class=\"data row1 col22\" >0.014049</td>\n",
       "                        <td id=\"T_eb9fe_row1_col23\" class=\"data row1 col23\" >-0.040308</td>\n",
       "                        <td id=\"T_eb9fe_row1_col24\" class=\"data row1 col24\" >-0.105130</td>\n",
       "                        <td id=\"T_eb9fe_row1_col25\" class=\"data row1 col25\" >0.041449</td>\n",
       "                        <td id=\"T_eb9fe_row1_col26\" class=\"data row1 col26\" >0.051648</td>\n",
       "                        <td id=\"T_eb9fe_row1_col27\" class=\"data row1 col27\" >0.170575</td>\n",
       "                        <td id=\"T_eb9fe_row1_col28\" class=\"data row1 col28\" >0.075667</td>\n",
       "                        <td id=\"T_eb9fe_row1_col29\" class=\"data row1 col29\" >122.211321</td>\n",
       "            </tr>\n",
       "    </tbody></table>"
      ],
      "text/plain": [
       "<pandas.io.formats.style.Styler at 0x1f289152190>"
      ]
     },
     "execution_count": 12,
     "metadata": {},
     "output_type": "execute_result"
    }
   ],
   "source": [
    "data.groupby('Class').mean().style.background_gradient(cmap='cividis')\n",
    "#1=Fraud Transaction\n",
    "#0=Fraud Transaction"
   ]
  },
  {
   "cell_type": "code",
   "execution_count": 13,
   "id": "26986390",
   "metadata": {},
   "outputs": [],
   "source": [
    "normal_sample = normal.sample(n=492)"
   ]
  },
  {
   "cell_type": "code",
   "execution_count": 14,
   "id": "0bbc6923",
   "metadata": {},
   "outputs": [
    {
     "data": {
      "text/plain": [
       "(492, 31)"
      ]
     },
     "execution_count": 14,
     "metadata": {},
     "output_type": "execute_result"
    }
   ],
   "source": [
    "normal_sample.shape"
   ]
  },
  {
   "cell_type": "markdown",
   "id": "6efd86f2",
   "metadata": {},
   "source": [
    "Using Under -Sampling method"
   ]
  },
  {
   "cell_type": "code",
   "execution_count": 15,
   "id": "2d2f29eb",
   "metadata": {},
   "outputs": [],
   "source": [
    "new_data=pd.concat([normal_sample,fraud],axis=0)"
   ]
  },
  {
   "cell_type": "code",
   "execution_count": 16,
   "id": "93c0fd86",
   "metadata": {},
   "outputs": [
    {
     "data": {
      "text/html": [
       "<div>\n",
       "<style scoped>\n",
       "    .dataframe tbody tr th:only-of-type {\n",
       "        vertical-align: middle;\n",
       "    }\n",
       "\n",
       "    .dataframe tbody tr th {\n",
       "        vertical-align: top;\n",
       "    }\n",
       "\n",
       "    .dataframe thead th {\n",
       "        text-align: right;\n",
       "    }\n",
       "</style>\n",
       "<table border=\"1\" class=\"dataframe\">\n",
       "  <thead>\n",
       "    <tr style=\"text-align: right;\">\n",
       "      <th></th>\n",
       "      <th>Time</th>\n",
       "      <th>V1</th>\n",
       "      <th>V2</th>\n",
       "      <th>V3</th>\n",
       "      <th>V4</th>\n",
       "      <th>V5</th>\n",
       "      <th>V6</th>\n",
       "      <th>V7</th>\n",
       "      <th>V8</th>\n",
       "      <th>V9</th>\n",
       "      <th>...</th>\n",
       "      <th>V21</th>\n",
       "      <th>V22</th>\n",
       "      <th>V23</th>\n",
       "      <th>V24</th>\n",
       "      <th>V25</th>\n",
       "      <th>V26</th>\n",
       "      <th>V27</th>\n",
       "      <th>V28</th>\n",
       "      <th>Amount</th>\n",
       "      <th>Class</th>\n",
       "    </tr>\n",
       "  </thead>\n",
       "  <tbody>\n",
       "    <tr>\n",
       "      <th>56025</th>\n",
       "      <td>47243.0</td>\n",
       "      <td>-0.816746</td>\n",
       "      <td>0.356333</td>\n",
       "      <td>1.680373</td>\n",
       "      <td>-0.879224</td>\n",
       "      <td>-1.079795</td>\n",
       "      <td>0.271831</td>\n",
       "      <td>-0.469482</td>\n",
       "      <td>0.766416</td>\n",
       "      <td>0.704791</td>\n",
       "      <td>...</td>\n",
       "      <td>0.384047</td>\n",
       "      <td>1.144297</td>\n",
       "      <td>-0.117475</td>\n",
       "      <td>0.048701</td>\n",
       "      <td>-0.086761</td>\n",
       "      <td>-0.412718</td>\n",
       "      <td>0.088153</td>\n",
       "      <td>0.059378</td>\n",
       "      <td>50.00</td>\n",
       "      <td>0</td>\n",
       "    </tr>\n",
       "    <tr>\n",
       "      <th>250577</th>\n",
       "      <td>154978.0</td>\n",
       "      <td>0.013510</td>\n",
       "      <td>0.750598</td>\n",
       "      <td>0.139029</td>\n",
       "      <td>-0.794814</td>\n",
       "      <td>0.665924</td>\n",
       "      <td>-0.512892</td>\n",
       "      <td>0.834117</td>\n",
       "      <td>0.021440</td>\n",
       "      <td>-0.200276</td>\n",
       "      <td>...</td>\n",
       "      <td>-0.235055</td>\n",
       "      <td>-0.550502</td>\n",
       "      <td>0.018174</td>\n",
       "      <td>-0.486490</td>\n",
       "      <td>-0.498415</td>\n",
       "      <td>0.152451</td>\n",
       "      <td>0.242989</td>\n",
       "      <td>0.081692</td>\n",
       "      <td>0.89</td>\n",
       "      <td>0</td>\n",
       "    </tr>\n",
       "    <tr>\n",
       "      <th>221549</th>\n",
       "      <td>142606.0</td>\n",
       "      <td>1.824009</td>\n",
       "      <td>-0.927934</td>\n",
       "      <td>-0.376237</td>\n",
       "      <td>0.161429</td>\n",
       "      <td>-0.664074</td>\n",
       "      <td>0.609094</td>\n",
       "      <td>-1.039845</td>\n",
       "      <td>0.368005</td>\n",
       "      <td>1.336100</td>\n",
       "      <td>...</td>\n",
       "      <td>0.083643</td>\n",
       "      <td>0.075435</td>\n",
       "      <td>0.202927</td>\n",
       "      <td>0.077609</td>\n",
       "      <td>-0.576775</td>\n",
       "      <td>0.353705</td>\n",
       "      <td>-0.036954</td>\n",
       "      <td>-0.034308</td>\n",
       "      <td>89.80</td>\n",
       "      <td>0</td>\n",
       "    </tr>\n",
       "    <tr>\n",
       "      <th>237868</th>\n",
       "      <td>149435.0</td>\n",
       "      <td>-0.912494</td>\n",
       "      <td>1.509319</td>\n",
       "      <td>-3.004712</td>\n",
       "      <td>-2.150790</td>\n",
       "      <td>2.933994</td>\n",
       "      <td>2.629486</td>\n",
       "      <td>0.342120</td>\n",
       "      <td>1.475749</td>\n",
       "      <td>-0.699600</td>\n",
       "      <td>...</td>\n",
       "      <td>0.296424</td>\n",
       "      <td>0.755862</td>\n",
       "      <td>-0.095099</td>\n",
       "      <td>0.749324</td>\n",
       "      <td>-0.174361</td>\n",
       "      <td>0.118668</td>\n",
       "      <td>0.269620</td>\n",
       "      <td>0.198293</td>\n",
       "      <td>0.76</td>\n",
       "      <td>0</td>\n",
       "    </tr>\n",
       "    <tr>\n",
       "      <th>74913</th>\n",
       "      <td>55810.0</td>\n",
       "      <td>-0.848540</td>\n",
       "      <td>0.241890</td>\n",
       "      <td>1.775466</td>\n",
       "      <td>1.520227</td>\n",
       "      <td>-1.146165</td>\n",
       "      <td>1.835810</td>\n",
       "      <td>0.593199</td>\n",
       "      <td>0.414400</td>\n",
       "      <td>0.728328</td>\n",
       "      <td>...</td>\n",
       "      <td>-0.336752</td>\n",
       "      <td>-0.473341</td>\n",
       "      <td>0.103090</td>\n",
       "      <td>-0.339976</td>\n",
       "      <td>-0.431704</td>\n",
       "      <td>-0.441305</td>\n",
       "      <td>0.099205</td>\n",
       "      <td>0.061550</td>\n",
       "      <td>203.49</td>\n",
       "      <td>0</td>\n",
       "    </tr>\n",
       "  </tbody>\n",
       "</table>\n",
       "<p>5 rows × 31 columns</p>\n",
       "</div>"
      ],
      "text/plain": [
       "            Time        V1        V2        V3        V4        V5        V6  \\\n",
       "56025    47243.0 -0.816746  0.356333  1.680373 -0.879224 -1.079795  0.271831   \n",
       "250577  154978.0  0.013510  0.750598  0.139029 -0.794814  0.665924 -0.512892   \n",
       "221549  142606.0  1.824009 -0.927934 -0.376237  0.161429 -0.664074  0.609094   \n",
       "237868  149435.0 -0.912494  1.509319 -3.004712 -2.150790  2.933994  2.629486   \n",
       "74913    55810.0 -0.848540  0.241890  1.775466  1.520227 -1.146165  1.835810   \n",
       "\n",
       "              V7        V8        V9  ...       V21       V22       V23  \\\n",
       "56025  -0.469482  0.766416  0.704791  ...  0.384047  1.144297 -0.117475   \n",
       "250577  0.834117  0.021440 -0.200276  ... -0.235055 -0.550502  0.018174   \n",
       "221549 -1.039845  0.368005  1.336100  ...  0.083643  0.075435  0.202927   \n",
       "237868  0.342120  1.475749 -0.699600  ...  0.296424  0.755862 -0.095099   \n",
       "74913   0.593199  0.414400  0.728328  ... -0.336752 -0.473341  0.103090   \n",
       "\n",
       "             V24       V25       V26       V27       V28  Amount  Class  \n",
       "56025   0.048701 -0.086761 -0.412718  0.088153  0.059378   50.00      0  \n",
       "250577 -0.486490 -0.498415  0.152451  0.242989  0.081692    0.89      0  \n",
       "221549  0.077609 -0.576775  0.353705 -0.036954 -0.034308   89.80      0  \n",
       "237868  0.749324 -0.174361  0.118668  0.269620  0.198293    0.76      0  \n",
       "74913  -0.339976 -0.431704 -0.441305  0.099205  0.061550  203.49      0  \n",
       "\n",
       "[5 rows x 31 columns]"
      ]
     },
     "execution_count": 16,
     "metadata": {},
     "output_type": "execute_result"
    }
   ],
   "source": [
    "new_data.head()"
   ]
  },
  {
   "cell_type": "code",
   "execution_count": 17,
   "id": "c4a9722b",
   "metadata": {},
   "outputs": [
    {
     "data": {
      "text/plain": [
       "0    492\n",
       "1    492\n",
       "Name: Class, dtype: int64"
      ]
     },
     "execution_count": 17,
     "metadata": {},
     "output_type": "execute_result"
    }
   ],
   "source": [
    "new_data[\"Class\"].value_counts()"
   ]
  },
  {
   "cell_type": "markdown",
   "id": "bb1396c4",
   "metadata": {},
   "source": [
    "The above data is balanced now .Lets move towards machine learning models"
   ]
  },
  {
   "cell_type": "code",
   "execution_count": 18,
   "id": "e2b20bae",
   "metadata": {},
   "outputs": [],
   "source": [
    "X=new_data.drop(columns='Class',axis=1)\n",
    "y=new_data[\"Class\"]"
   ]
  },
  {
   "cell_type": "code",
   "execution_count": 19,
   "id": "21bd7501",
   "metadata": {},
   "outputs": [],
   "source": [
    "from sklearn.model_selection import train_test_split \n",
    "\n",
    "Xtrain , Xtest , Ytrain , Ytest = train_test_split(X , y , test_size = 0.2 , random_state = 4)"
   ]
  },
  {
   "cell_type": "code",
   "execution_count": 20,
   "id": "07cbc477",
   "metadata": {},
   "outputs": [],
   "source": [
    "Scaler = StandardScaler()\n",
    "Xtrain = Scaler.fit_transform(Xtrain)\n",
    "Xtest = Scaler.transform(Xtest)"
   ]
  },
  {
   "cell_type": "code",
   "execution_count": 21,
   "id": "e315c077",
   "metadata": {},
   "outputs": [
    {
     "data": {
      "text/plain": [
       "RandomForestClassifier()"
      ]
     },
     "execution_count": 21,
     "metadata": {},
     "output_type": "execute_result"
    }
   ],
   "source": [
    "model = RandomForestClassifier()\n",
    "model.fit(Xtrain , Ytrain)"
   ]
  },
  {
   "cell_type": "code",
   "execution_count": 22,
   "id": "6a7e79d4",
   "metadata": {},
   "outputs": [
    {
     "name": "stdout",
     "output_type": "stream",
     "text": [
      "Testing Accuracy :  0.9543147208121827\n",
      "training acc 1.0\n"
     ]
    }
   ],
   "source": [
    "print(\"Testing Accuracy : \" , model.score(Xtest , Ytest))\n",
    "print(\"training acc\" , model.score(Xtrain , Ytrain))\n"
   ]
  },
  {
   "cell_type": "code",
   "execution_count": 23,
   "id": "884342e9",
   "metadata": {},
   "outputs": [],
   "source": [
    "predictions = model.predict(Xtest)"
   ]
  },
  {
   "cell_type": "code",
   "execution_count": 24,
   "id": "8aff42be",
   "metadata": {},
   "outputs": [
    {
     "name": "stdout",
     "output_type": "stream",
     "text": [
      "[[98  0]\n",
      " [ 9 90]]\n"
     ]
    },
    {
     "data": {
      "text/plain": [
       "<AxesSubplot:>"
      ]
     },
     "execution_count": 24,
     "metadata": {},
     "output_type": "execute_result"
    },
    {
     "data": {
      "image/png": "[encoded data removed]",
      "text/plain": [
       "<Figure size 432x288 with 2 Axes>"
      ]
     },
     "metadata": {},
     "output_type": "display_data"
    }
   ],
   "source": [
    "from sklearn.metrics import confusion_matrix \n",
    "\n",
    "matrix = confusion_matrix(Ytest , predictions)\n",
    "print(matrix)\n",
    "sns.heatmap(matrix , annot=True)"
   ]
  },
  {
   "cell_type": "markdown",
   "id": "0234f26b",
   "metadata": {},
   "source": [
    "Using DecisionTreeClassifier "
   ]
  },
  {
   "cell_type": "code",
   "execution_count": 25,
   "id": "bc52efc0",
   "metadata": {},
   "outputs": [
    {
     "data": {
      "text/plain": [
       "DecisionTreeClassifier()"
      ]
     },
     "execution_count": 25,
     "metadata": {},
     "output_type": "execute_result"
    }
   ],
   "source": [
    "model = DecisionTreeClassifier()\n",
    "model.fit(Xtrain , Ytrain)"
   ]
  },
  {
   "cell_type": "code",
   "execution_count": 26,
   "id": "ca891faf",
   "metadata": {},
   "outputs": [
    {
     "name": "stdout",
     "output_type": "stream",
     "text": [
      "Testing Accuracy :  0.9137055837563451\n"
     ]
    }
   ],
   "source": [
    "print(\"Testing Accuracy : \" , model.score(Xtest , Ytest))"
   ]
  },
  {
   "cell_type": "code",
   "execution_count": 27,
   "id": "3d70185d",
   "metadata": {},
   "outputs": [],
   "source": [
    "predictions = model.predict(Xtest)"
   ]
  },
  {
   "cell_type": "code",
   "execution_count": 28,
   "id": "9272bd91",
   "metadata": {},
   "outputs": [
    {
     "name": "stdout",
     "output_type": "stream",
     "text": [
      "[[91  7]\n",
      " [10 89]]\n"
     ]
    },
    {
     "data": {
      "text/plain": [
       "<AxesSubplot:>"
      ]
     },
     "execution_count": 28,
     "metadata": {},
     "output_type": "execute_result"
    },
    {
     "data": {
      "image/png": "[encoded data removed]",
      "text/plain": [
       "<Figure size 432x288 with 2 Axes>"
      ]
     },
     "metadata": {},
     "output_type": "display_data"
    }
   ],
   "source": [
    "from sklearn.metrics import confusion_matrix \n",
    "\n",
    "matrix = confusion_matrix(Ytest , predictions)\n",
    "print(matrix)\n",
    "sns.heatmap(matrix , annot=True)"
   ]
  },
  {
   "cell_type": "code",
   "execution_count": 29,
   "id": "9fdcb3d7",
   "metadata": {},
   "outputs": [
    {
     "data": {
      "image/png": "[encoded data removed]",
      "text/plain": [
       "<Figure size 1800x1440 with 1 Axes>"
      ]
     },
     "metadata": {},
     "output_type": "display_data"
    }
   ],
   "source": [
    "from sklearn import tree\n",
    "\n",
    "fig = plt.figure(figsize=(25,20))\n",
    "_ = tree.plot_tree(model, \n",
    "                   max_depth=3,\n",
    "                   feature_names=data.columns[:-1],  \n",
    "                   class_names=['0','1'],\n",
    "                   filled=True)"
   ]
  },
  {
   "cell_type": "markdown",
   "id": "ca4fb688",
   "metadata": {},
   "source": [
    "Using KNeighborsClassifier\n"
   ]
  },
  {
   "cell_type": "code",
   "execution_count": 30,
   "id": "a01fc021",
   "metadata": {},
   "outputs": [],
   "source": [
    "from sklearn.neighbors import KNeighborsClassifier\n",
    "# Instantiate the KNeighborsClassifier with a n_neighbors value of 1\n",
    "knn = KNeighborsClassifier(n_neighbors=1)"
   ]
  },
  {
   "cell_type": "code",
   "execution_count": 31,
   "id": "5a9f0ee7",
   "metadata": {},
   "outputs": [
    {
     "data": {
      "text/plain": [
       "KNeighborsClassifier(n_neighbors=1)"
      ]
     },
     "execution_count": 31,
     "metadata": {},
     "output_type": "execute_result"
    }
   ],
   "source": [
    "knn.fit(Xtrain, Ytrain)"
   ]
  },
  {
   "cell_type": "code",
   "execution_count": 32,
   "id": "c0ba40ee",
   "metadata": {},
   "outputs": [
    {
     "name": "stdout",
     "output_type": "stream",
     "text": [
      "Testing Accuracy :  0.8883248730964467\n"
     ]
    }
   ],
   "source": [
    "prediction = knn.predict(Xtest)\n",
    "print(\"Testing Accuracy : \" , knn.score(Xtest , Ytest))"
   ]
  },
  {
   "cell_type": "code",
   "execution_count": 33,
   "id": "b0880179",
   "metadata": {},
   "outputs": [
    {
     "name": "stdout",
     "output_type": "stream",
     "text": [
      "[[90  8]\n",
      " [14 85]]\n"
     ]
    },
    {
     "data": {
      "text/plain": [
       "<AxesSubplot:>"
      ]
     },
     "execution_count": 33,
     "metadata": {},
     "output_type": "execute_result"
    },
    {
     "data": {
      "image/png": "[encoded data removed]",
      "text/plain": [
       "<Figure size 432x288 with 2 Axes>"
      ]
     },
     "metadata": {},
     "output_type": "display_data"
    }
   ],
   "source": [
    "from sklearn.metrics import confusion_matrix \n",
    "\n",
    "matrix = confusion_matrix(Ytest , prediction)\n",
    "print(matrix)\n",
    "sns.heatmap(matrix , annot=True)"
   ]
  },
  {
   "cell_type": "code",
   "execution_count": 34,
   "id": "e6b4491b",
   "metadata": {},
   "outputs": [
    {
     "data": {
      "text/plain": [
       "[<matplotlib.lines.Line2D at 0x1f289bd30d0>]"
      ]
     },
     "execution_count": 34,
     "metadata": {},
     "output_type": "execute_result"
    },
    {
     "data": {
      "image/png": "[encoded data removed]",
      "text/plain": [
       "<Figure size 432x288 with 1 Axes>"
      ]
     },
     "metadata": {},
     "output_type": "display_data"
    }
   ],
   "source": [
    "# check whether data is standardized or not \n",
    "# mean should be 1 \n",
    "\n",
    "plt.ylim(-1,1)\n",
    "\n",
    "means = []\n",
    "for i in range(X.shape[1]):\n",
    "    means.append(np.mean(Xtest[:,i]))\n",
    "plt.plot(means , scaley=False)"
   ]
  },
  {
   "cell_type": "code",
   "execution_count": 35,
   "id": "05e88049",
   "metadata": {},
   "outputs": [
    {
     "data": {
      "text/plain": [
       "[<matplotlib.lines.Line2D at 0x1f289c2d040>]"
      ]
     },
     "execution_count": 35,
     "metadata": {},
     "output_type": "execute_result"
    },
    {
     "data": {
      "image/png": "[encoded data removed]",
      "text/plain": [
       "<Figure size 432x288 with 1 Axes>"
      ]
     },
     "metadata": {},
     "output_type": "display_data"
    }
   ],
   "source": [
    "# Check variances \n",
    "\n",
    "plt.ylim(0,2)\n",
    "\n",
    "vars = []\n",
    "for i in range(X.shape[1]):\n",
    "    vars.append(np.var(Xtest[:,i]))\n",
    "plt.plot(vars)"
   ]
  },
  {
   "cell_type": "code",
   "execution_count": 36,
   "id": "9f77f0b6",
   "metadata": {},
   "outputs": [],
   "source": [
    "from sklearn.linear_model import LogisticRegression \n",
    "\n",
    "model = LogisticRegression()\n",
    "model.fit(Xtrain , Ytrain)\n",
    "\n",
    "predictions = model.predict(Xtest)"
   ]
  },
  {
   "cell_type": "code",
   "execution_count": 37,
   "id": "8cb1ac92",
   "metadata": {},
   "outputs": [
    {
     "name": "stdout",
     "output_type": "stream",
     "text": [
      "[[95  3]\n",
      " [ 7 92]]\n"
     ]
    },
    {
     "data": {
      "text/plain": [
       "<AxesSubplot:>"
      ]
     },
     "execution_count": 37,
     "metadata": {},
     "output_type": "execute_result"
    },
    {
     "data": {
      "image/png": "[encoded data removed]",
      "text/plain": [
       "<Figure size 432x288 with 2 Axes>"
      ]
     },
     "metadata": {},
     "output_type": "display_data"
    }
   ],
   "source": [
    "from sklearn.metrics import confusion_matrix,accuracy_score, precision_score, recall_score\n",
    "\n",
    "matrix = confusion_matrix(Ytest , predictions)\n",
    "print(matrix)\n",
    "sns.heatmap(matrix , annot=True)"
   ]
  },
  {
   "cell_type": "code",
   "execution_count": 38,
   "id": "7e496fba",
   "metadata": {},
   "outputs": [
    {
     "name": "stdout",
     "output_type": "stream",
     "text": [
      "Validation Accuracy :  0.949238578680203\n"
     ]
    }
   ],
   "source": [
    "def Accuracy(Truths , Predictions):\n",
    "    return np.mean(Truths == Predictions)\n",
    "\n",
    "print(\"Validation Accuracy : \" , Accuracy(Ytest , predictions))"
   ]
  },
  {
   "cell_type": "code",
   "execution_count": 39,
   "id": "217a08b3",
   "metadata": {},
   "outputs": [
    {
     "name": "stdout",
     "output_type": "stream",
     "text": [
      "Precision :  0.968421052631579\n"
     ]
    }
   ],
   "source": [
    "# Checking precision \n",
    "\n",
    "print(\"Precision : \" , precision_score(Ytest , predictions))"
   ]
  },
  {
   "cell_type": "code",
   "execution_count": 40,
   "id": "12e20ca4",
   "metadata": {},
   "outputs": [
    {
     "name": "stdout",
     "output_type": "stream",
     "text": [
      "Recall :  0.9292929292929293\n"
     ]
    }
   ],
   "source": [
    "# Checking recall \n",
    "\n",
    "print(\"Recall : \" , recall_score(Ytest , predictions))"
   ]
  },
  {
   "cell_type": "code",
   "execution_count": 42,
   "id": "74a9cc7d",
   "metadata": {},
   "outputs": [
    {
     "name": "stdout",
     "output_type": "stream",
     "text": [
      "[22:18:39] WARNING: C:/Users/Administrator/workspace/xgboost-win64_release_1.4.0/src/learner.cc:1095: Starting in XGBoost 1.3.0, the default evaluation metric used with the objective 'binary:logistic' was changed from 'error' to 'logloss'. Explicitly set eval_metric if you'd like to restore the old behavior.\n"
     ]
    }
   ],
   "source": [
    "clf=XGBClassifier()\n",
    "clf.fit(Xtrain,Ytrain)\n",
    "y_predict=clf.predict(Xtest)"
   ]
  },
  {
   "cell_type": "code",
   "execution_count": 45,
   "id": "19b53a7d",
   "metadata": {},
   "outputs": [
    {
     "name": "stdout",
     "output_type": "stream",
     "text": [
      "[[95  3]\n",
      " [10 89]]\n"
     ]
    },
    {
     "data": {
      "text/plain": [
       "<AxesSubplot:>"
      ]
     },
     "execution_count": 45,
     "metadata": {},
     "output_type": "execute_result"
    },
    {
     "data": {
      "image/png": "[encoded data removed]",
      "text/plain": [
       "<Figure size 432x288 with 2 Axes>"
      ]
     },
     "metadata": {},
     "output_type": "display_data"
    }
   ],
   "source": [
    "#Confusion metrics\n",
    "cm=confusion_matrix(Ytest,y_predict)\n",
    "print(cm)\n",
    "sns.heatmap(cm, annot=True)"
   ]
  },
  {
   "cell_type": "code",
   "execution_count": 49,
   "id": "bf0875c1",
   "metadata": {},
   "outputs": [
    {
     "name": "stdout",
     "output_type": "stream",
     "text": [
      "0.934010152284264\n",
      "              precision    recall  f1-score   support\n",
      "\n",
      "           0       0.90      0.97      0.94        98\n",
      "           1       0.97      0.90      0.93        99\n",
      "\n",
      "    accuracy                           0.93       197\n",
      "   macro avg       0.94      0.93      0.93       197\n",
      "weighted avg       0.94      0.93      0.93       197\n",
      "\n"
     ]
    }
   ],
   "source": [
    "#Accuracy and classification report\n",
    "print(accuracy_score(Ytest,y_predict))\n",
    "print(classification_report(Ytest,y_predict))"
   ]
  },
  {
   "cell_type": "code",
   "execution_count": null,
   "id": "f9b65079",
   "metadata": {},
   "outputs": [],
   "source": []
  },
  {
   "cell_type": "code",
   "execution_count": null,
   "id": "eb5bc743",
   "metadata": {},
   "outputs": [],
   "source": []
  },
  {
   "cell_type": "code",
   "execution_count": null,
   "id": "d56c8086",
   "metadata": {},
   "outputs": [],
   "source": []
  }
 ],
 "metadata": {
  "kernelspec": {
   "display_name": "Python 3",
   "language": "python",
   "name": "python3"
  },
  "language_info": {
   "codemirror_mode": {
    "name": "ipython",
    "version": 3
   },
   "file_extension": ".py",
   "mimetype": "text/x-python",
   "name": "python",
   "nbconvert_exporter": "python",
   "pygments_lexer": "ipython3",
   "version": "3.8.8"
  }
 },
 "nbformat": 4,
 "nbformat_minor": 5
}
